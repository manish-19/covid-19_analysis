{
 "cells": [
  {
   "cell_type": "code",
   "execution_count": null,
   "metadata": {},
   "outputs": [],
   "source": [
    "import pandas as pd\n",
    "from matplotlib import pyplot as plt\n",
    "import seaborn as sns\n",
    "import datetime as dt\n",
    "import numpy as np"
   ]
  },
  {
   "cell_type": "code",
   "execution_count": null,
   "metadata": {},
   "outputs": [],
   "source": [
    "covid = pd.read_csv('covid_19_india.csv',parse_dates=['Date'],dayfirst=True)"
   ]
  },
  {
   "cell_type": "code",
   "execution_count": 53,
   "metadata": {},
   "outputs": [
    {
     "data": {
      "text/plain": [
       "(18110, 9)"
      ]
     },
     "execution_count": 53,
     "metadata": {},
     "output_type": "execute_result"
    }
   ],
   "source": [
    "covid.shape"
   ]
  },
  {
   "cell_type": "code",
   "execution_count": 54,
   "metadata": {},
   "outputs": [
    {
     "name": "stdout",
     "output_type": "stream",
     "text": [
      "<bound method DataFrame.info of          Sno       Date     Time                      State/UnionTerritory  \\\n",
      "0          1 2020-01-30  6:00 PM                                    Kerala   \n",
      "1          2 2020-01-31  6:00 PM                                    Kerala   \n",
      "2          3 2020-02-01  6:00 PM                                    Kerala   \n",
      "3          4 2020-02-02  6:00 PM                                    Kerala   \n",
      "4          5 2020-02-03  6:00 PM                                    Kerala   \n",
      "5          6 2020-02-04  6:00 PM                                    Kerala   \n",
      "6          7 2020-02-05  6:00 PM                                    Kerala   \n",
      "7          8 2020-02-06  6:00 PM                                    Kerala   \n",
      "8          9 2020-02-07  6:00 PM                                    Kerala   \n",
      "9         10 2020-02-08  6:00 PM                                    Kerala   \n",
      "10        11 2020-02-09  6:00 PM                                    Kerala   \n",
      "11        12 2020-02-10  6:00 PM                                    Kerala   \n",
      "12        13 2020-02-11  6:00 PM                                    Kerala   \n",
      "13        14 2020-02-12  6:00 PM                                    Kerala   \n",
      "14        15 2020-02-13  6:00 PM                                    Kerala   \n",
      "15        16 2020-02-14  6:00 PM                                    Kerala   \n",
      "16        17 2020-02-15  6:00 PM                                    Kerala   \n",
      "17        18 2020-02-16  6:00 PM                                    Kerala   \n",
      "18        19 2020-02-17  6:00 PM                                    Kerala   \n",
      "19        20 2020-02-18  6:00 PM                                    Kerala   \n",
      "20        21 2020-02-19  6:00 PM                                    Kerala   \n",
      "21        22 2020-02-20  6:00 PM                                    Kerala   \n",
      "22        23 2020-02-21  6:00 PM                                    Kerala   \n",
      "23        24 2020-02-22  6:00 PM                                    Kerala   \n",
      "24        25 2020-02-23  6:00 PM                                    Kerala   \n",
      "25        26 2020-02-24  6:00 PM                                    Kerala   \n",
      "26        27 2020-02-25  6:00 PM                                    Kerala   \n",
      "27        28 2020-02-26  6:00 PM                                    Kerala   \n",
      "28        29 2020-02-27  6:00 PM                                    Kerala   \n",
      "29        30 2020-02-28  6:00 PM                                    Kerala   \n",
      "...      ...        ...      ...                                       ...   \n",
      "18080  18081 2021-08-11  8:00 AM                              Chhattisgarh   \n",
      "18081  18082 2021-08-11  8:00 AM  Dadra and Nagar Haveli and Daman and Diu   \n",
      "18082  18083 2021-08-11  8:00 AM                                     Delhi   \n",
      "18083  18084 2021-08-11  8:00 AM                                       Goa   \n",
      "18084  18085 2021-08-11  8:00 AM                                   Gujarat   \n",
      "18085  18086 2021-08-11  8:00 AM                                   Haryana   \n",
      "18086  18087 2021-08-11  8:00 AM                          Himachal Pradesh   \n",
      "18087  18088 2021-08-11  8:00 AM                         Jammu and Kashmir   \n",
      "18088  18089 2021-08-11  8:00 AM                                 Jharkhand   \n",
      "18089  18090 2021-08-11  8:00 AM                                 Karnataka   \n",
      "18090  18091 2021-08-11  8:00 AM                                    Kerala   \n",
      "18091  18092 2021-08-11  8:00 AM                                    Ladakh   \n",
      "18092  18093 2021-08-11  8:00 AM                               Lakshadweep   \n",
      "18093  18094 2021-08-11  8:00 AM                            Madhya Pradesh   \n",
      "18094  18095 2021-08-11  8:00 AM                               Maharashtra   \n",
      "18095  18096 2021-08-11  8:00 AM                                   Manipur   \n",
      "18096  18097 2021-08-11  8:00 AM                                 Meghalaya   \n",
      "18097  18098 2021-08-11  8:00 AM                                   Mizoram   \n",
      "18098  18099 2021-08-11  8:00 AM                                  Nagaland   \n",
      "18099  18100 2021-08-11  8:00 AM                                    Odisha   \n",
      "18100  18101 2021-08-11  8:00 AM                                Puducherry   \n",
      "18101  18102 2021-08-11  8:00 AM                                    Punjab   \n",
      "18102  18103 2021-08-11  8:00 AM                                 Rajasthan   \n",
      "18103  18104 2021-08-11  8:00 AM                                    Sikkim   \n",
      "18104  18105 2021-08-11  8:00 AM                                Tamil Nadu   \n",
      "18105  18106 2021-08-11  8:00 AM                                 Telangana   \n",
      "18106  18107 2021-08-11  8:00 AM                                   Tripura   \n",
      "18107  18108 2021-08-11  8:00 AM                               Uttarakhand   \n",
      "18108  18109 2021-08-11  8:00 AM                             Uttar Pradesh   \n",
      "18109  18110 2021-08-11  8:00 AM                               West Bengal   \n",
      "\n",
      "      ConfirmedIndianNational ConfirmedForeignNational    Cured  Deaths  \\\n",
      "0                           1                        0        0       0   \n",
      "1                           1                        0        0       0   \n",
      "2                           2                        0        0       0   \n",
      "3                           3                        0        0       0   \n",
      "4                           3                        0        0       0   \n",
      "5                           3                        0        0       0   \n",
      "6                           3                        0        0       0   \n",
      "7                           3                        0        0       0   \n",
      "8                           3                        0        0       0   \n",
      "9                           3                        0        0       0   \n",
      "10                          3                        0        0       0   \n",
      "11                          3                        0        0       0   \n",
      "12                          3                        0        0       0   \n",
      "13                          3                        0        0       0   \n",
      "14                          3                        0        0       0   \n",
      "15                          3                        0        0       0   \n",
      "16                          3                        0        0       0   \n",
      "17                          3                        0        0       0   \n",
      "18                          3                        0        0       0   \n",
      "19                          3                        0        0       0   \n",
      "20                          3                        0        0       0   \n",
      "21                          3                        0        0       0   \n",
      "22                          3                        0        0       0   \n",
      "23                          3                        0        0       0   \n",
      "24                          3                        0        0       0   \n",
      "25                          3                        0        0       0   \n",
      "26                          3                        0        0       0   \n",
      "27                          3                        0        0       0   \n",
      "28                          3                        0        0       0   \n",
      "29                          3                        0        0       0   \n",
      "...                       ...                      ...      ...     ...   \n",
      "18080                       -                        -   988189   13544   \n",
      "18081                       -                        -    10646       4   \n",
      "18082                       -                        -  1411280   25068   \n",
      "18083                       -                        -   167978    3164   \n",
      "18084                       -                        -   814802   10077   \n",
      "18085                       -                        -   759790    9652   \n",
      "18086                       -                        -   202761    3537   \n",
      "18087                       -                        -   317081    4392   \n",
      "18088                       -                        -   342102    5130   \n",
      "18089                       -                        -  2861499   36848   \n",
      "18090                       -                        -  3396184   18004   \n",
      "18091                       -                        -    20130     207   \n",
      "18092                       -                        -    10165      51   \n",
      "18093                       -                        -   781330   10514   \n",
      "18094                       -                        -  6159676  134201   \n",
      "18095                       -                        -    96776    1664   \n",
      "18096                       -                        -    64157    1185   \n",
      "18097                       -                        -    33722     171   \n",
      "18098                       -                        -    26852     585   \n",
      "18099                       -                        -   972710    6565   \n",
      "18100                       -                        -   119115    1800   \n",
      "18101                       -                        -   582791   16322   \n",
      "18102                       -                        -   944700    8954   \n",
      "18103                       -                        -    25095     356   \n",
      "18104                       -                        -  2524400   34367   \n",
      "18105                       -                        -   638410    3831   \n",
      "18106                       -                        -    77811     773   \n",
      "18107                       -                        -   334650    7368   \n",
      "18108                       -                        -  1685492   22775   \n",
      "18109                       -                        -  1506532   18252   \n",
      "\n",
      "       Confirmed  \n",
      "0              1  \n",
      "1              1  \n",
      "2              2  \n",
      "3              3  \n",
      "4              3  \n",
      "5              3  \n",
      "6              3  \n",
      "7              3  \n",
      "8              3  \n",
      "9              3  \n",
      "10             3  \n",
      "11             3  \n",
      "12             3  \n",
      "13             3  \n",
      "14             3  \n",
      "15             3  \n",
      "16             3  \n",
      "17             3  \n",
      "18             3  \n",
      "19             3  \n",
      "20             3  \n",
      "21             3  \n",
      "22             3  \n",
      "23             3  \n",
      "24             3  \n",
      "25             3  \n",
      "26             3  \n",
      "27             3  \n",
      "28             3  \n",
      "29             3  \n",
      "...          ...  \n",
      "18080    1003356  \n",
      "18081      10654  \n",
      "18082    1436852  \n",
      "18083     172085  \n",
      "18084     825085  \n",
      "18085     770114  \n",
      "18086     208616  \n",
      "18087     322771  \n",
      "18088     347440  \n",
      "18089    2921049  \n",
      "18090    3586693  \n",
      "18091      20411  \n",
      "18092      10263  \n",
      "18093     791980  \n",
      "18094    6363442  \n",
      "18095     105424  \n",
      "18096      69769  \n",
      "18097      46320  \n",
      "18098      28811  \n",
      "18099     988997  \n",
      "18100     121766  \n",
      "18101     599573  \n",
      "18102     953851  \n",
      "18103      28018  \n",
      "18104    2579130  \n",
      "18105     650353  \n",
      "18106      80660  \n",
      "18107     342462  \n",
      "18108    1708812  \n",
      "18109    1534999  \n",
      "\n",
      "[18110 rows x 9 columns]>\n"
     ]
    }
   ],
   "source": [
    "print(covid.info)"
   ]
  },
  {
   "cell_type": "code",
   "execution_count": 55,
   "metadata": {},
   "outputs": [
    {
     "data": {
      "text/html": [
       "<div>\n",
       "<style scoped>\n",
       "    .dataframe tbody tr th:only-of-type {\n",
       "        vertical-align: middle;\n",
       "    }\n",
       "\n",
       "    .dataframe tbody tr th {\n",
       "        vertical-align: top;\n",
       "    }\n",
       "\n",
       "    .dataframe thead th {\n",
       "        text-align: right;\n",
       "    }\n",
       "</style>\n",
       "<table border=\"1\" class=\"dataframe\">\n",
       "  <thead>\n",
       "    <tr style=\"text-align: right;\">\n",
       "      <th></th>\n",
       "      <th>Sno</th>\n",
       "      <th>Date</th>\n",
       "      <th>Time</th>\n",
       "      <th>State/UnionTerritory</th>\n",
       "      <th>ConfirmedIndianNational</th>\n",
       "      <th>ConfirmedForeignNational</th>\n",
       "      <th>Cured</th>\n",
       "      <th>Deaths</th>\n",
       "      <th>Confirmed</th>\n",
       "    </tr>\n",
       "  </thead>\n",
       "  <tbody>\n",
       "    <tr>\n",
       "      <th>0</th>\n",
       "      <td>1</td>\n",
       "      <td>2020-01-30</td>\n",
       "      <td>6:00 PM</td>\n",
       "      <td>Kerala</td>\n",
       "      <td>1</td>\n",
       "      <td>0</td>\n",
       "      <td>0</td>\n",
       "      <td>0</td>\n",
       "      <td>1</td>\n",
       "    </tr>\n",
       "    <tr>\n",
       "      <th>1</th>\n",
       "      <td>2</td>\n",
       "      <td>2020-01-31</td>\n",
       "      <td>6:00 PM</td>\n",
       "      <td>Kerala</td>\n",
       "      <td>1</td>\n",
       "      <td>0</td>\n",
       "      <td>0</td>\n",
       "      <td>0</td>\n",
       "      <td>1</td>\n",
       "    </tr>\n",
       "    <tr>\n",
       "      <th>2</th>\n",
       "      <td>3</td>\n",
       "      <td>2020-02-01</td>\n",
       "      <td>6:00 PM</td>\n",
       "      <td>Kerala</td>\n",
       "      <td>2</td>\n",
       "      <td>0</td>\n",
       "      <td>0</td>\n",
       "      <td>0</td>\n",
       "      <td>2</td>\n",
       "    </tr>\n",
       "    <tr>\n",
       "      <th>3</th>\n",
       "      <td>4</td>\n",
       "      <td>2020-02-02</td>\n",
       "      <td>6:00 PM</td>\n",
       "      <td>Kerala</td>\n",
       "      <td>3</td>\n",
       "      <td>0</td>\n",
       "      <td>0</td>\n",
       "      <td>0</td>\n",
       "      <td>3</td>\n",
       "    </tr>\n",
       "    <tr>\n",
       "      <th>4</th>\n",
       "      <td>5</td>\n",
       "      <td>2020-02-03</td>\n",
       "      <td>6:00 PM</td>\n",
       "      <td>Kerala</td>\n",
       "      <td>3</td>\n",
       "      <td>0</td>\n",
       "      <td>0</td>\n",
       "      <td>0</td>\n",
       "      <td>3</td>\n",
       "    </tr>\n",
       "  </tbody>\n",
       "</table>\n",
       "</div>"
      ],
      "text/plain": [
       "   Sno       Date     Time State/UnionTerritory ConfirmedIndianNational  \\\n",
       "0    1 2020-01-30  6:00 PM               Kerala                       1   \n",
       "1    2 2020-01-31  6:00 PM               Kerala                       1   \n",
       "2    3 2020-02-01  6:00 PM               Kerala                       2   \n",
       "3    4 2020-02-02  6:00 PM               Kerala                       3   \n",
       "4    5 2020-02-03  6:00 PM               Kerala                       3   \n",
       "\n",
       "  ConfirmedForeignNational  Cured  Deaths  Confirmed  \n",
       "0                        0      0       0          1  \n",
       "1                        0      0       0          1  \n",
       "2                        0      0       0          2  \n",
       "3                        0      0       0          3  \n",
       "4                        0      0       0          3  "
      ]
     },
     "execution_count": 55,
     "metadata": {},
     "output_type": "execute_result"
    }
   ],
   "source": [
    "covid.head()"
   ]
  },
  {
   "cell_type": "code",
   "execution_count": 56,
   "metadata": {},
   "outputs": [],
   "source": [
    "covid = covid[['Date','State/UnionTerritory','Cured','Deaths','Confirmed']]\n",
    "covid.columns = ['date','state','cured','deaths','confirmed']"
   ]
  },
  {
   "cell_type": "code",
   "execution_count": 57,
   "metadata": {},
   "outputs": [
    {
     "data": {
      "text/html": [
       "<div>\n",
       "<style scoped>\n",
       "    .dataframe tbody tr th:only-of-type {\n",
       "        vertical-align: middle;\n",
       "    }\n",
       "\n",
       "    .dataframe tbody tr th {\n",
       "        vertical-align: top;\n",
       "    }\n",
       "\n",
       "    .dataframe thead th {\n",
       "        text-align: right;\n",
       "    }\n",
       "</style>\n",
       "<table border=\"1\" class=\"dataframe\">\n",
       "  <thead>\n",
       "    <tr style=\"text-align: right;\">\n",
       "      <th></th>\n",
       "      <th>date</th>\n",
       "      <th>state</th>\n",
       "      <th>cured</th>\n",
       "      <th>deaths</th>\n",
       "      <th>confirmed</th>\n",
       "    </tr>\n",
       "  </thead>\n",
       "  <tbody>\n",
       "    <tr>\n",
       "      <th>0</th>\n",
       "      <td>2020-01-30</td>\n",
       "      <td>Kerala</td>\n",
       "      <td>0</td>\n",
       "      <td>0</td>\n",
       "      <td>1</td>\n",
       "    </tr>\n",
       "    <tr>\n",
       "      <th>1</th>\n",
       "      <td>2020-01-31</td>\n",
       "      <td>Kerala</td>\n",
       "      <td>0</td>\n",
       "      <td>0</td>\n",
       "      <td>1</td>\n",
       "    </tr>\n",
       "    <tr>\n",
       "      <th>2</th>\n",
       "      <td>2020-02-01</td>\n",
       "      <td>Kerala</td>\n",
       "      <td>0</td>\n",
       "      <td>0</td>\n",
       "      <td>2</td>\n",
       "    </tr>\n",
       "    <tr>\n",
       "      <th>3</th>\n",
       "      <td>2020-02-02</td>\n",
       "      <td>Kerala</td>\n",
       "      <td>0</td>\n",
       "      <td>0</td>\n",
       "      <td>3</td>\n",
       "    </tr>\n",
       "    <tr>\n",
       "      <th>4</th>\n",
       "      <td>2020-02-03</td>\n",
       "      <td>Kerala</td>\n",
       "      <td>0</td>\n",
       "      <td>0</td>\n",
       "      <td>3</td>\n",
       "    </tr>\n",
       "  </tbody>\n",
       "</table>\n",
       "</div>"
      ],
      "text/plain": [
       "        date   state  cured  deaths  confirmed\n",
       "0 2020-01-30  Kerala      0       0          1\n",
       "1 2020-01-31  Kerala      0       0          1\n",
       "2 2020-02-01  Kerala      0       0          2\n",
       "3 2020-02-02  Kerala      0       0          3\n",
       "4 2020-02-03  Kerala      0       0          3"
      ]
     },
     "execution_count": 57,
     "metadata": {},
     "output_type": "execute_result"
    }
   ],
   "source": [
    "covid.head()"
   ]
  },
  {
   "cell_type": "code",
   "execution_count": 58,
   "metadata": {},
   "outputs": [
    {
     "data": {
      "text/html": [
       "<div>\n",
       "<style scoped>\n",
       "    .dataframe tbody tr th:only-of-type {\n",
       "        vertical-align: middle;\n",
       "    }\n",
       "\n",
       "    .dataframe tbody tr th {\n",
       "        vertical-align: top;\n",
       "    }\n",
       "\n",
       "    .dataframe thead th {\n",
       "        text-align: right;\n",
       "    }\n",
       "</style>\n",
       "<table border=\"1\" class=\"dataframe\">\n",
       "  <thead>\n",
       "    <tr style=\"text-align: right;\">\n",
       "      <th></th>\n",
       "      <th>date</th>\n",
       "      <th>state</th>\n",
       "      <th>cured</th>\n",
       "      <th>deaths</th>\n",
       "      <th>confirmed</th>\n",
       "    </tr>\n",
       "  </thead>\n",
       "  <tbody>\n",
       "    <tr>\n",
       "      <th>18105</th>\n",
       "      <td>2021-08-11</td>\n",
       "      <td>Telangana</td>\n",
       "      <td>638410</td>\n",
       "      <td>3831</td>\n",
       "      <td>650353</td>\n",
       "    </tr>\n",
       "    <tr>\n",
       "      <th>18106</th>\n",
       "      <td>2021-08-11</td>\n",
       "      <td>Tripura</td>\n",
       "      <td>77811</td>\n",
       "      <td>773</td>\n",
       "      <td>80660</td>\n",
       "    </tr>\n",
       "    <tr>\n",
       "      <th>18107</th>\n",
       "      <td>2021-08-11</td>\n",
       "      <td>Uttarakhand</td>\n",
       "      <td>334650</td>\n",
       "      <td>7368</td>\n",
       "      <td>342462</td>\n",
       "    </tr>\n",
       "    <tr>\n",
       "      <th>18108</th>\n",
       "      <td>2021-08-11</td>\n",
       "      <td>Uttar Pradesh</td>\n",
       "      <td>1685492</td>\n",
       "      <td>22775</td>\n",
       "      <td>1708812</td>\n",
       "    </tr>\n",
       "    <tr>\n",
       "      <th>18109</th>\n",
       "      <td>2021-08-11</td>\n",
       "      <td>West Bengal</td>\n",
       "      <td>1506532</td>\n",
       "      <td>18252</td>\n",
       "      <td>1534999</td>\n",
       "    </tr>\n",
       "  </tbody>\n",
       "</table>\n",
       "</div>"
      ],
      "text/plain": [
       "            date          state    cured  deaths  confirmed\n",
       "18105 2021-08-11      Telangana   638410    3831     650353\n",
       "18106 2021-08-11        Tripura    77811     773      80660\n",
       "18107 2021-08-11    Uttarakhand   334650    7368     342462\n",
       "18108 2021-08-11  Uttar Pradesh  1685492   22775    1708812\n",
       "18109 2021-08-11    West Bengal  1506532   18252    1534999"
      ]
     },
     "execution_count": 58,
     "metadata": {},
     "output_type": "execute_result"
    }
   ],
   "source": [
    "covid.tail()"
   ]
  },
  {
   "cell_type": "code",
   "execution_count": 59,
   "metadata": {},
   "outputs": [
    {
     "data": {
      "text/html": [
       "<div>\n",
       "<style scoped>\n",
       "    .dataframe tbody tr th:only-of-type {\n",
       "        vertical-align: middle;\n",
       "    }\n",
       "\n",
       "    .dataframe tbody tr th {\n",
       "        vertical-align: top;\n",
       "    }\n",
       "\n",
       "    .dataframe thead th {\n",
       "        text-align: right;\n",
       "    }\n",
       "</style>\n",
       "<table border=\"1\" class=\"dataframe\">\n",
       "  <thead>\n",
       "    <tr style=\"text-align: right;\">\n",
       "      <th></th>\n",
       "      <th>cured</th>\n",
       "      <th>deaths</th>\n",
       "      <th>confirmed</th>\n",
       "    </tr>\n",
       "  </thead>\n",
       "  <tbody>\n",
       "    <tr>\n",
       "      <th>count</th>\n",
       "      <td>1.811000e+04</td>\n",
       "      <td>18110.000000</td>\n",
       "      <td>1.811000e+04</td>\n",
       "    </tr>\n",
       "    <tr>\n",
       "      <th>mean</th>\n",
       "      <td>2.786375e+05</td>\n",
       "      <td>4052.402264</td>\n",
       "      <td>3.010314e+05</td>\n",
       "    </tr>\n",
       "    <tr>\n",
       "      <th>std</th>\n",
       "      <td>6.148909e+05</td>\n",
       "      <td>10919.076411</td>\n",
       "      <td>6.561489e+05</td>\n",
       "    </tr>\n",
       "    <tr>\n",
       "      <th>min</th>\n",
       "      <td>0.000000e+00</td>\n",
       "      <td>0.000000</td>\n",
       "      <td>0.000000e+00</td>\n",
       "    </tr>\n",
       "    <tr>\n",
       "      <th>25%</th>\n",
       "      <td>3.360250e+03</td>\n",
       "      <td>32.000000</td>\n",
       "      <td>4.376750e+03</td>\n",
       "    </tr>\n",
       "    <tr>\n",
       "      <th>50%</th>\n",
       "      <td>3.336400e+04</td>\n",
       "      <td>588.000000</td>\n",
       "      <td>3.977350e+04</td>\n",
       "    </tr>\n",
       "    <tr>\n",
       "      <th>75%</th>\n",
       "      <td>2.788698e+05</td>\n",
       "      <td>3643.750000</td>\n",
       "      <td>3.001498e+05</td>\n",
       "    </tr>\n",
       "    <tr>\n",
       "      <th>max</th>\n",
       "      <td>6.159676e+06</td>\n",
       "      <td>134201.000000</td>\n",
       "      <td>6.363442e+06</td>\n",
       "    </tr>\n",
       "  </tbody>\n",
       "</table>\n",
       "</div>"
      ],
      "text/plain": [
       "              cured         deaths     confirmed\n",
       "count  1.811000e+04   18110.000000  1.811000e+04\n",
       "mean   2.786375e+05    4052.402264  3.010314e+05\n",
       "std    6.148909e+05   10919.076411  6.561489e+05\n",
       "min    0.000000e+00       0.000000  0.000000e+00\n",
       "25%    3.360250e+03      32.000000  4.376750e+03\n",
       "50%    3.336400e+04     588.000000  3.977350e+04\n",
       "75%    2.788698e+05    3643.750000  3.001498e+05\n",
       "max    6.159676e+06  134201.000000  6.363442e+06"
      ]
     },
     "execution_count": 59,
     "metadata": {},
     "output_type": "execute_result"
    }
   ],
   "source": [
    "covid.describe()"
   ]
  },
  {
   "cell_type": "code",
   "execution_count": 60,
   "metadata": {},
   "outputs": [
    {
     "name": "stdout",
     "output_type": "stream",
     "text": [
      "              cured    deaths  confirmed\n",
      "cured      1.000000  0.917529   0.997751\n",
      "deaths     0.917529  1.000000   0.918346\n",
      "confirmed  0.997751  0.918346   1.000000\n"
     ]
    }
   ],
   "source": [
    "print(covid.corr())"
   ]
  },
  {
   "cell_type": "code",
   "execution_count": 13,
   "metadata": {},
   "outputs": [],
   "source": [
    "today = covid[covid.date=='2021-04-22']"
   ]
  },
  {
   "cell_type": "code",
   "execution_count": 14,
   "metadata": {},
   "outputs": [
    {
     "data": {
      "text/html": [
       "<div>\n",
       "<style scoped>\n",
       "    .dataframe tbody tr th:only-of-type {\n",
       "        vertical-align: middle;\n",
       "    }\n",
       "\n",
       "    .dataframe tbody tr th {\n",
       "        vertical-align: top;\n",
       "    }\n",
       "\n",
       "    .dataframe thead th {\n",
       "        text-align: right;\n",
       "    }\n",
       "</style>\n",
       "<table border=\"1\" class=\"dataframe\">\n",
       "  <thead>\n",
       "    <tr style=\"text-align: right;\">\n",
       "      <th></th>\n",
       "      <th>date</th>\n",
       "      <th>state</th>\n",
       "      <th>cured</th>\n",
       "      <th>deaths</th>\n",
       "      <th>confirmed</th>\n",
       "    </tr>\n",
       "  </thead>\n",
       "  <tbody>\n",
       "    <tr>\n",
       "      <th>14078</th>\n",
       "      <td>2021-04-22</td>\n",
       "      <td>Andaman and Nicobar Islands</td>\n",
       "      <td>5276</td>\n",
       "      <td>64</td>\n",
       "      <td>5490</td>\n",
       "    </tr>\n",
       "    <tr>\n",
       "      <th>14079</th>\n",
       "      <td>2021-04-22</td>\n",
       "      <td>Andhra Pradesh</td>\n",
       "      <td>918985</td>\n",
       "      <td>7510</td>\n",
       "      <td>986703</td>\n",
       "    </tr>\n",
       "    <tr>\n",
       "      <th>14080</th>\n",
       "      <td>2021-04-22</td>\n",
       "      <td>Arunachal Pradesh</td>\n",
       "      <td>16851</td>\n",
       "      <td>56</td>\n",
       "      <td>17186</td>\n",
       "    </tr>\n",
       "    <tr>\n",
       "      <th>14081</th>\n",
       "      <td>2021-04-22</td>\n",
       "      <td>Assam</td>\n",
       "      <td>217593</td>\n",
       "      <td>1150</td>\n",
       "      <td>229138</td>\n",
       "    </tr>\n",
       "    <tr>\n",
       "      <th>14082</th>\n",
       "      <td>2021-04-22</td>\n",
       "      <td>Bihar</td>\n",
       "      <td>288637</td>\n",
       "      <td>1897</td>\n",
       "      <td>354281</td>\n",
       "    </tr>\n",
       "  </tbody>\n",
       "</table>\n",
       "</div>"
      ],
      "text/plain": [
       "            date                        state   cured  deaths  confirmed\n",
       "14078 2021-04-22  Andaman and Nicobar Islands    5276      64       5490\n",
       "14079 2021-04-22               Andhra Pradesh  918985    7510     986703\n",
       "14080 2021-04-22            Arunachal Pradesh   16851      56      17186\n",
       "14081 2021-04-22                        Assam  217593    1150     229138\n",
       "14082 2021-04-22                        Bihar  288637    1897     354281"
      ]
     },
     "execution_count": 14,
     "metadata": {},
     "output_type": "execute_result"
    }
   ],
   "source": [
    "today.head()"
   ]
  },
  {
   "cell_type": "code",
   "execution_count": 15,
   "metadata": {},
   "outputs": [
    {
     "data": {
      "text/html": [
       "<div>\n",
       "<style scoped>\n",
       "    .dataframe tbody tr th:only-of-type {\n",
       "        vertical-align: middle;\n",
       "    }\n",
       "\n",
       "    .dataframe tbody tr th {\n",
       "        vertical-align: top;\n",
       "    }\n",
       "\n",
       "    .dataframe thead th {\n",
       "        text-align: right;\n",
       "    }\n",
       "</style>\n",
       "<table border=\"1\" class=\"dataframe\">\n",
       "  <thead>\n",
       "    <tr style=\"text-align: right;\">\n",
       "      <th></th>\n",
       "      <th>date</th>\n",
       "      <th>state</th>\n",
       "      <th>cured</th>\n",
       "      <th>deaths</th>\n",
       "      <th>confirmed</th>\n",
       "    </tr>\n",
       "  </thead>\n",
       "  <tbody>\n",
       "    <tr>\n",
       "      <th>14110</th>\n",
       "      <td>2021-04-22</td>\n",
       "      <td>Tripura</td>\n",
       "      <td>33268</td>\n",
       "      <td>394</td>\n",
       "      <td>34262</td>\n",
       "    </tr>\n",
       "    <tr>\n",
       "      <th>14111</th>\n",
       "      <td>2021-04-22</td>\n",
       "      <td>Uttarakhand</td>\n",
       "      <td>107166</td>\n",
       "      <td>1953</td>\n",
       "      <td>134012</td>\n",
       "    </tr>\n",
       "    <tr>\n",
       "      <th>14112</th>\n",
       "      <td>2021-04-22</td>\n",
       "      <td>Uttar Pradesh</td>\n",
       "      <td>689900</td>\n",
       "      <td>10346</td>\n",
       "      <td>942511</td>\n",
       "    </tr>\n",
       "    <tr>\n",
       "      <th>14113</th>\n",
       "      <td>2021-04-22</td>\n",
       "      <td>West Bengal</td>\n",
       "      <td>614750</td>\n",
       "      <td>10710</td>\n",
       "      <td>688956</td>\n",
       "    </tr>\n",
       "  </tbody>\n",
       "</table>\n",
       "</div>"
      ],
      "text/plain": [
       "            date          state   cured  deaths  confirmed\n",
       "14110 2021-04-22        Tripura   33268     394      34262\n",
       "14111 2021-04-22    Uttarakhand  107166    1953     134012\n",
       "14112 2021-04-22  Uttar Pradesh  689900   10346     942511\n",
       "14113 2021-04-22    West Bengal  614750   10710     688956"
      ]
     },
     "execution_count": 15,
     "metadata": {},
     "output_type": "execute_result"
    }
   ],
   "source": [
    "today.tail(4)"
   ]
  },
  {
   "cell_type": "code",
   "execution_count": 16,
   "metadata": {},
   "outputs": [],
   "source": [
    "max_confirmed_cases = today.sort_values(by='confirmed',ascending=False)"
   ]
  },
  {
   "cell_type": "code",
   "execution_count": 17,
   "metadata": {},
   "outputs": [
    {
     "data": {
      "text/html": [
       "<div>\n",
       "<style scoped>\n",
       "    .dataframe tbody tr th:only-of-type {\n",
       "        vertical-align: middle;\n",
       "    }\n",
       "\n",
       "    .dataframe tbody tr th {\n",
       "        vertical-align: top;\n",
       "    }\n",
       "\n",
       "    .dataframe thead th {\n",
       "        text-align: right;\n",
       "    }\n",
       "</style>\n",
       "<table border=\"1\" class=\"dataframe\">\n",
       "  <thead>\n",
       "    <tr style=\"text-align: right;\">\n",
       "      <th></th>\n",
       "      <th>date</th>\n",
       "      <th>state</th>\n",
       "      <th>cured</th>\n",
       "      <th>deaths</th>\n",
       "      <th>confirmed</th>\n",
       "    </tr>\n",
       "  </thead>\n",
       "  <tbody>\n",
       "    <tr>\n",
       "      <th>14098</th>\n",
       "      <td>2021-04-22</td>\n",
       "      <td>Maharashtra</td>\n",
       "      <td>3268449</td>\n",
       "      <td>61911</td>\n",
       "      <td>4027827</td>\n",
       "    </tr>\n",
       "    <tr>\n",
       "      <th>14094</th>\n",
       "      <td>2021-04-22</td>\n",
       "      <td>Kerala</td>\n",
       "      <td>1154102</td>\n",
       "      <td>5000</td>\n",
       "      <td>1295059</td>\n",
       "    </tr>\n",
       "    <tr>\n",
       "      <th>14093</th>\n",
       "      <td>2021-04-22</td>\n",
       "      <td>Karnataka</td>\n",
       "      <td>1032233</td>\n",
       "      <td>13762</td>\n",
       "      <td>1222202</td>\n",
       "    </tr>\n",
       "    <tr>\n",
       "      <th>14108</th>\n",
       "      <td>2021-04-22</td>\n",
       "      <td>Tamil Nadu</td>\n",
       "      <td>927440</td>\n",
       "      <td>13258</td>\n",
       "      <td>1025059</td>\n",
       "    </tr>\n",
       "    <tr>\n",
       "      <th>14079</th>\n",
       "      <td>2021-04-22</td>\n",
       "      <td>Andhra Pradesh</td>\n",
       "      <td>918985</td>\n",
       "      <td>7510</td>\n",
       "      <td>986703</td>\n",
       "    </tr>\n",
       "    <tr>\n",
       "      <th>14112</th>\n",
       "      <td>2021-04-22</td>\n",
       "      <td>Uttar Pradesh</td>\n",
       "      <td>689900</td>\n",
       "      <td>10346</td>\n",
       "      <td>942511</td>\n",
       "    </tr>\n",
       "  </tbody>\n",
       "</table>\n",
       "</div>"
      ],
      "text/plain": [
       "            date           state    cured  deaths  confirmed\n",
       "14098 2021-04-22     Maharashtra  3268449   61911    4027827\n",
       "14094 2021-04-22          Kerala  1154102    5000    1295059\n",
       "14093 2021-04-22       Karnataka  1032233   13762    1222202\n",
       "14108 2021-04-22      Tamil Nadu   927440   13258    1025059\n",
       "14079 2021-04-22  Andhra Pradesh   918985    7510     986703\n",
       "14112 2021-04-22   Uttar Pradesh   689900   10346     942511"
      ]
     },
     "execution_count": 17,
     "metadata": {},
     "output_type": "execute_result"
    }
   ],
   "source": [
    "max_confirmed_cases.head(6)"
   ]
  },
  {
   "cell_type": "code",
   "execution_count": 18,
   "metadata": {},
   "outputs": [
    {
     "name": "stdout",
     "output_type": "stream",
     "text": [
      "            date           state    cured  deaths  confirmed\n",
      "14098 2021-04-22     Maharashtra  3268449   61911    4027827\n",
      "14094 2021-04-22          Kerala  1154102    5000    1295059\n",
      "14093 2021-04-22       Karnataka  1032233   13762    1222202\n",
      "14108 2021-04-22      Tamil Nadu   927440   13258    1025059\n",
      "14079 2021-04-22  Andhra Pradesh   918985    7510     986703\n"
     ]
    }
   ],
   "source": [
    "top_states_confirmed = max_confirmed_cases[0:5]\n",
    "print(top_states_confirmed)"
   ]
  },
  {
   "cell_type": "code",
   "execution_count": 19,
   "metadata": {},
   "outputs": [
    {
     "data": {
      "image/png": "[encoded data removed]",
      "text/plain": [
       "<Figure size 1080x720 with 1 Axes>"
      ]
     },
     "metadata": {},
     "output_type": "display_data"
    }
   ],
   "source": [
    "sns.set(rc={'figure.figsize':(15,10)})\n",
    "sns.barplot(x=\"state\",y=\"confirmed\",data=top_states_confirmed,hue=\"state\")\n",
    "plt.show()"
   ]
  },
  {
   "cell_type": "code",
   "execution_count": 20,
   "metadata": {},
   "outputs": [],
   "source": [
    "max_death_cases = today.sort_values(by='deaths',ascending=False)"
   ]
  },
  {
   "cell_type": "code",
   "execution_count": 21,
   "metadata": {},
   "outputs": [],
   "source": [
    "top_states_death = max_death_cases[0:5]"
   ]
  },
  {
   "cell_type": "code",
   "execution_count": 22,
   "metadata": {},
   "outputs": [
    {
     "data": {
      "image/png": "[encoded data removed]",
      "text/plain": [
       "<Figure size 1080x720 with 1 Axes>"
      ]
     },
     "metadata": {},
     "output_type": "display_data"
    }
   ],
   "source": [
    "sns.set(rc={'figure.figsize':(15,10)})\n",
    "sns.barplot(x=\"state\",y=\"deaths\",data=top_states_death,hue=\"state\")\n",
    "plt.show()"
   ]
  },
  {
   "cell_type": "code",
   "execution_count": 23,
   "metadata": {},
   "outputs": [],
   "source": [
    "max_cured_today = today.sort_values(by='cured',ascending=False)\n",
    "top_states_cured = max_cured_today[0:5]"
   ]
  },
  {
   "cell_type": "code",
   "execution_count": 24,
   "metadata": {},
   "outputs": [
    {
     "data": {
      "image/png": "[encoded data removed]",
      "text/plain": [
       "<Figure size 1080x720 with 1 Axes>"
      ]
     },
     "metadata": {},
     "output_type": "display_data"
    }
   ],
   "source": [
    "sns.set(rc={'figure.figsize':(15,10)})\n",
    "sns.barplot(x=\"state\",y=\"cured\",data=top_states_death,hue=\"state\")\n",
    "plt.show()"
   ]
  },
  {
   "cell_type": "code",
   "execution_count": 25,
   "metadata": {},
   "outputs": [
    {
     "data": {
      "image/png": "[encoded data removed]",
      "text/plain": [
       "<Figure size 1080x720 with 1 Axes>"
      ]
     },
     "metadata": {},
     "output_type": "display_data"
    }
   ],
   "source": [
    "sns.set(rc={'figure.figsize':(15,10)})\n",
    "sns.scatterplot(x=\"state\",y=\"cured\",data=top_states_death,hue=\"state\")\n",
    "plt.show()"
   ]
  },
  {
   "cell_type": "code",
   "execution_count": 26,
   "metadata": {},
   "outputs": [],
   "source": [
    "mh = covid[covid.state=='Maharashtra'] "
   ]
  },
  {
   "cell_type": "code",
   "execution_count": 27,
   "metadata": {},
   "outputs": [
    {
     "name": "stdout",
     "output_type": "stream",
     "text": [
      "          date        state  cured  deaths  confirmed\n",
      "76  2020-03-09  Maharashtra      0       0          2\n",
      "91  2020-03-10  Maharashtra      0       0          5\n",
      "97  2020-03-11  Maharashtra      0       0          2\n",
      "120 2020-03-12  Maharashtra      0       0         11\n",
      "133 2020-03-13  Maharashtra      0       0         14\n"
     ]
    },
    {
     "data": {
      "text/plain": [
       "(520, 5)"
      ]
     },
     "execution_count": 27,
     "metadata": {},
     "output_type": "execute_result"
    }
   ],
   "source": [
    "print(mh.head())\n",
    "mh.shape"
   ]
  },
  {
   "cell_type": "code",
   "execution_count": 28,
   "metadata": {},
   "outputs": [
    {
     "data": {
      "text/html": [
       "<div>\n",
       "<style scoped>\n",
       "    .dataframe tbody tr th:only-of-type {\n",
       "        vertical-align: middle;\n",
       "    }\n",
       "\n",
       "    .dataframe tbody tr th {\n",
       "        vertical-align: top;\n",
       "    }\n",
       "\n",
       "    .dataframe thead th {\n",
       "        text-align: right;\n",
       "    }\n",
       "</style>\n",
       "<table border=\"1\" class=\"dataframe\">\n",
       "  <thead>\n",
       "    <tr style=\"text-align: right;\">\n",
       "      <th></th>\n",
       "      <th>date</th>\n",
       "      <th>state</th>\n",
       "      <th>cured</th>\n",
       "      <th>deaths</th>\n",
       "      <th>confirmed</th>\n",
       "    </tr>\n",
       "  </thead>\n",
       "  <tbody>\n",
       "    <tr>\n",
       "      <th>17950</th>\n",
       "      <td>2021-08-07</td>\n",
       "      <td>Maharashtra</td>\n",
       "      <td>6130137</td>\n",
       "      <td>133717</td>\n",
       "      <td>6341759</td>\n",
       "    </tr>\n",
       "    <tr>\n",
       "      <th>17986</th>\n",
       "      <td>2021-08-08</td>\n",
       "      <td>Maharashtra</td>\n",
       "      <td>6139493</td>\n",
       "      <td>133845</td>\n",
       "      <td>6347820</td>\n",
       "    </tr>\n",
       "    <tr>\n",
       "      <th>18022</th>\n",
       "      <td>2021-08-09</td>\n",
       "      <td>Maharashtra</td>\n",
       "      <td>6144388</td>\n",
       "      <td>133996</td>\n",
       "      <td>6353328</td>\n",
       "    </tr>\n",
       "    <tr>\n",
       "      <th>18058</th>\n",
       "      <td>2021-08-10</td>\n",
       "      <td>Maharashtra</td>\n",
       "      <td>6151956</td>\n",
       "      <td>134064</td>\n",
       "      <td>6357833</td>\n",
       "    </tr>\n",
       "    <tr>\n",
       "      <th>18094</th>\n",
       "      <td>2021-08-11</td>\n",
       "      <td>Maharashtra</td>\n",
       "      <td>6159676</td>\n",
       "      <td>134201</td>\n",
       "      <td>6363442</td>\n",
       "    </tr>\n",
       "  </tbody>\n",
       "</table>\n",
       "</div>"
      ],
      "text/plain": [
       "            date        state    cured  deaths  confirmed\n",
       "17950 2021-08-07  Maharashtra  6130137  133717    6341759\n",
       "17986 2021-08-08  Maharashtra  6139493  133845    6347820\n",
       "18022 2021-08-09  Maharashtra  6144388  133996    6353328\n",
       "18058 2021-08-10  Maharashtra  6151956  134064    6357833\n",
       "18094 2021-08-11  Maharashtra  6159676  134201    6363442"
      ]
     },
     "execution_count": 28,
     "metadata": {},
     "output_type": "execute_result"
    }
   ],
   "source": [
    "mh.tail()"
   ]
  },
  {
   "cell_type": "code",
   "execution_count": 29,
   "metadata": {},
   "outputs": [
    {
     "data": {
      "image/png": "[encoded data removed]",
      "text/plain": [
       "<Figure size 1080x720 with 1 Axes>"
      ]
     },
     "metadata": {},
     "output_type": "display_data"
    }
   ],
   "source": [
    "sns.set(rc={'figure.figsize':(15,10)})\n",
    "sns.lineplot(x=\"date\",y=\"confirmed\",data=mh,color=\"g\")\n",
    "plt.show()"
   ]
  },
  {
   "cell_type": "code",
   "execution_count": 30,
   "metadata": {},
   "outputs": [],
   "source": [
    "#similarly do it for other states"
   ]
  },
  {
   "cell_type": "code",
   "execution_count": 45,
   "metadata": {},
   "outputs": [],
   "source": [
    "x=mh['date']\n",
    "y=mh['confirmed']"
   ]
  },
  {
   "cell_type": "code",
   "execution_count": 1,
   "metadata": {},
   "outputs": [],
   "source": [
    "from sklearn.model_selection import train_test_split"
   ]
  },
  {
   "cell_type": "code",
   "execution_count": 42,
   "metadata": {},
   "outputs": [
    {
     "data": {
      "text/html": [
       "<div>\n",
       "<style scoped>\n",
       "    .dataframe tbody tr th:only-of-type {\n",
       "        vertical-align: middle;\n",
       "    }\n",
       "\n",
       "    .dataframe tbody tr th {\n",
       "        vertical-align: top;\n",
       "    }\n",
       "\n",
       "    .dataframe thead th {\n",
       "        text-align: right;\n",
       "    }\n",
       "</style>\n",
       "<table border=\"1\" class=\"dataframe\">\n",
       "  <thead>\n",
       "    <tr style=\"text-align: right;\">\n",
       "      <th></th>\n",
       "      <th>date</th>\n",
       "      <th>state</th>\n",
       "      <th>cured</th>\n",
       "      <th>deaths</th>\n",
       "      <th>confirmed</th>\n",
       "    </tr>\n",
       "  </thead>\n",
       "  <tbody>\n",
       "    <tr>\n",
       "      <th>76</th>\n",
       "      <td>737493</td>\n",
       "      <td>Maharashtra</td>\n",
       "      <td>0</td>\n",
       "      <td>0</td>\n",
       "      <td>2</td>\n",
       "    </tr>\n",
       "    <tr>\n",
       "      <th>91</th>\n",
       "      <td>737494</td>\n",
       "      <td>Maharashtra</td>\n",
       "      <td>0</td>\n",
       "      <td>0</td>\n",
       "      <td>5</td>\n",
       "    </tr>\n",
       "    <tr>\n",
       "      <th>97</th>\n",
       "      <td>737495</td>\n",
       "      <td>Maharashtra</td>\n",
       "      <td>0</td>\n",
       "      <td>0</td>\n",
       "      <td>2</td>\n",
       "    </tr>\n",
       "    <tr>\n",
       "      <th>120</th>\n",
       "      <td>737496</td>\n",
       "      <td>Maharashtra</td>\n",
       "      <td>0</td>\n",
       "      <td>0</td>\n",
       "      <td>11</td>\n",
       "    </tr>\n",
       "    <tr>\n",
       "      <th>133</th>\n",
       "      <td>737497</td>\n",
       "      <td>Maharashtra</td>\n",
       "      <td>0</td>\n",
       "      <td>0</td>\n",
       "      <td>14</td>\n",
       "    </tr>\n",
       "  </tbody>\n",
       "</table>\n",
       "</div>"
      ],
      "text/plain": [
       "       date        state  cured  deaths  confirmed\n",
       "76   737493  Maharashtra      0       0          2\n",
       "91   737494  Maharashtra      0       0          5\n",
       "97   737495  Maharashtra      0       0          2\n",
       "120  737496  Maharashtra      0       0         11\n",
       "133  737497  Maharashtra      0       0         14"
      ]
     },
     "execution_count": 42,
     "metadata": {},
     "output_type": "execute_result"
    }
   ],
   "source": [
    "mh.head()"
   ]
  },
  {
   "cell_type": "code",
   "execution_count": 49,
   "metadata": {},
   "outputs": [
    {
     "ename": "TypeError",
     "evalue": "descriptor 'toordinal' requires a 'datetime.date' object but received a 'int'",
     "output_type": "error",
     "traceback": [
      "\u001b[1;31m---------------------------------------------------------------------------\u001b[0m",
      "\u001b[1;31mTypeError\u001b[0m                                 Traceback (most recent call last)",
      "\u001b[1;32m<ipython-input-49-466089e4b9a4>\u001b[0m in \u001b[0;36m<module>\u001b[1;34m\u001b[0m\n\u001b[1;32m----> 1\u001b[1;33m \u001b[0mmh\u001b[0m\u001b[1;33m[\u001b[0m\u001b[1;34m'date'\u001b[0m\u001b[1;33m]\u001b[0m\u001b[1;33m=\u001b[0m\u001b[0mmh\u001b[0m\u001b[1;33m[\u001b[0m\u001b[1;34m'date'\u001b[0m\u001b[1;33m]\u001b[0m\u001b[1;33m.\u001b[0m\u001b[0mmap\u001b[0m\u001b[1;33m(\u001b[0m\u001b[0mdt\u001b[0m\u001b[1;33m.\u001b[0m\u001b[0mdatetime\u001b[0m\u001b[1;33m.\u001b[0m\u001b[0mtoordinal\u001b[0m\u001b[1;33m)\u001b[0m\u001b[1;33m\u001b[0m\u001b[1;33m\u001b[0m\u001b[0m\n\u001b[0m",
      "\u001b[1;32mc:\\users\\e.manish\\appdata\\local\\programs\\python\\python37-32\\lib\\site-packages\\pandas\\core\\series.py\u001b[0m in \u001b[0;36mmap\u001b[1;34m(self, arg, na_action)\u001b[0m\n\u001b[0;32m   2996\u001b[0m         \"\"\"\n\u001b[0;32m   2997\u001b[0m         new_values = super(Series, self)._map_values(\n\u001b[1;32m-> 2998\u001b[1;33m             arg, na_action=na_action)\n\u001b[0m\u001b[0;32m   2999\u001b[0m         return self._constructor(new_values,\n\u001b[0;32m   3000\u001b[0m                                  index=self.index).__finalize__(self)\n",
      "\u001b[1;32mc:\\users\\e.manish\\appdata\\local\\programs\\python\\python37-32\\lib\\site-packages\\pandas\\core\\base.py\u001b[0m in \u001b[0;36m_map_values\u001b[1;34m(self, mapper, na_action)\u001b[0m\n\u001b[0;32m   1002\u001b[0m \u001b[1;33m\u001b[0m\u001b[0m\n\u001b[0;32m   1003\u001b[0m         \u001b[1;31m# mapper is a function\u001b[0m\u001b[1;33m\u001b[0m\u001b[1;33m\u001b[0m\u001b[1;33m\u001b[0m\u001b[0m\n\u001b[1;32m-> 1004\u001b[1;33m         \u001b[0mnew_values\u001b[0m \u001b[1;33m=\u001b[0m \u001b[0mmap_f\u001b[0m\u001b[1;33m(\u001b[0m\u001b[0mvalues\u001b[0m\u001b[1;33m,\u001b[0m \u001b[0mmapper\u001b[0m\u001b[1;33m)\u001b[0m\u001b[1;33m\u001b[0m\u001b[1;33m\u001b[0m\u001b[0m\n\u001b[0m\u001b[0;32m   1005\u001b[0m \u001b[1;33m\u001b[0m\u001b[0m\n\u001b[0;32m   1006\u001b[0m         \u001b[1;32mreturn\u001b[0m \u001b[0mnew_values\u001b[0m\u001b[1;33m\u001b[0m\u001b[1;33m\u001b[0m\u001b[0m\n",
      "\u001b[1;32mpandas/_libs/src\\inference.pyx\u001b[0m in \u001b[0;36mpandas._libs.lib.map_infer\u001b[1;34m()\u001b[0m\n",
      "\u001b[1;31mTypeError\u001b[0m: descriptor 'toordinal' requires a 'datetime.date' object but received a 'int'"
     ]
    }
   ],
   "source": [
    "mh['date']=mh['date'].map(dt.datetime.toordinal)"
   ]
  },
  {
   "cell_type": "code",
   "execution_count": 62,
   "metadata": {},
   "outputs": [
    {
     "ename": "ModuleNotFoundError",
     "evalue": "No module named 'sklearn'",
     "output_type": "error",
     "traceback": [
      "\u001b[1;31m---------------------------------------------------------------------------\u001b[0m",
      "\u001b[1;31mModuleNotFoundError\u001b[0m                       Traceback (most recent call last)",
      "\u001b[1;32m<ipython-input-62-73edc048c06b>\u001b[0m in \u001b[0;36m<module>\u001b[1;34m\u001b[0m\n\u001b[1;32m----> 1\u001b[1;33m \u001b[1;32mfrom\u001b[0m \u001b[0msklearn\u001b[0m\u001b[1;33m.\u001b[0m\u001b[0mmodel_selection\u001b[0m \u001b[1;32mimport\u001b[0m \u001b[0mtrain_test_split\u001b[0m\u001b[1;33m\u001b[0m\u001b[1;33m\u001b[0m\u001b[0m\n\u001b[0m",
      "\u001b[1;31mModuleNotFoundError\u001b[0m: No module named 'sklearn'"
     ]
    }
   ],
   "source": [
    "from sklearn.model_selection import train_test_split"
   ]
  },
  {
   "cell_type": "code",
   "execution_count": 61,
   "metadata": {},
   "outputs": [
    {
     "ename": "ModuleNotFoundError",
     "evalue": "No module named 'sklearn'",
     "output_type": "error",
     "traceback": [
      "\u001b[1;31m---------------------------------------------------------------------------\u001b[0m",
      "\u001b[1;31mModuleNotFoundError\u001b[0m                       Traceback (most recent call last)",
      "\u001b[1;32m<ipython-input-61-89db614d07d0>\u001b[0m in \u001b[0;36m<module>\u001b[1;34m\u001b[0m\n\u001b[1;32m----> 1\u001b[1;33m \u001b[1;32mfrom\u001b[0m \u001b[0msklearn\u001b[0m\u001b[1;33m.\u001b[0m\u001b[0mensemble\u001b[0m \u001b[1;32mimport\u001b[0m \u001b[0mRandomForestRegressor\u001b[0m\u001b[1;33m\u001b[0m\u001b[1;33m\u001b[0m\u001b[0m\n\u001b[0m",
      "\u001b[1;31mModuleNotFoundError\u001b[0m: No module named 'sklearn'"
     ]
    }
   ],
   "source": [
    "from sklearn.ensemble import RandomForestRegressor"
   ]
  },
  {
   "cell_type": "code",
   "execution_count": 50,
   "metadata": {},
   "outputs": [
    {
     "ename": "NameError",
     "evalue": "name 'RandomForestRegressor' is not defined",
     "output_type": "error",
     "traceback": [
      "\u001b[1;31m---------------------------------------------------------------------------\u001b[0m",
      "\u001b[1;31mNameError\u001b[0m                                 Traceback (most recent call last)",
      "\u001b[1;32m<ipython-input-50-f11d69e131f5>\u001b[0m in \u001b[0;36m<module>\u001b[1;34m\u001b[0m\n\u001b[1;32m----> 1\u001b[1;33m \u001b[0mrf\u001b[0m \u001b[1;33m=\u001b[0m \u001b[0mRandomForestRegressor\u001b[0m\u001b[1;33m(\u001b[0m\u001b[1;33m)\u001b[0m\u001b[1;33m\u001b[0m\u001b[1;33m\u001b[0m\u001b[0m\n\u001b[0m",
      "\u001b[1;31mNameError\u001b[0m: name 'RandomForestRegressor' is not defined"
     ]
    }
   ],
   "source": [
    "rf = RandomForestRegressor()"
   ]
  },
  {
   "cell_type": "code",
   "execution_count": null,
   "metadata": {},
   "outputs": [],
   "source": [
    "rf.fit(np.array(x_train).reshape(-1,1),np.array(y_train).reshape(-1,1))"
   ]
  },
  {
   "cell_type": "code",
   "execution_count": null,
   "metadata": {},
   "outputs": [],
   "source": [
    "rf.predict([])"
   ]
  }
 ],
 "metadata": {
  "kernelspec": {
   "display_name": "Python 3",
   "language": "python",
   "name": "python3"
  },
  "language_info": {
   "codemirror_mode": {
    "name": "ipython",
    "version": 3
   },
   "file_extension": ".py",
   "mimetype": "text/x-python",
   "name": "python",
   "nbconvert_exporter": "python",
   "pygments_lexer": "ipython3",
   "version": "3.7.1"
  }
 },
 "nbformat": 4,
 "nbformat_minor": 2
}
